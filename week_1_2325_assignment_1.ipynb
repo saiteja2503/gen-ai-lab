{
  "nbformat": 4,
  "nbformat_minor": 0,
  "metadata": {
    "colab": {
      "provenance": [],
      "authorship_tag": "ABX9TyOsMzY/WYQSaWv7xhrTWcGq",
      "include_colab_link": true
    },
    "kernelspec": {
      "name": "python3",
      "display_name": "Python 3"
    },
    "language_info": {
      "name": "python"
    }
  },
  "cells": [
    {
      "cell_type": "markdown",
      "metadata": {
        "id": "view-in-github",
        "colab_type": "text"
      },
      "source": [
        "<a href=\"https://colab.research.google.com/github/saiteja2503/gen-ai-lab/blob/main/week_1_2325_assignment_1.ipynb\" target=\"_parent\"><img src=\"https://colab.research.google.com/assets/colab-badge.svg\" alt=\"Open In Colab\"/></a>"
      ]
    },
    {
      "cell_type": "code",
      "execution_count": null,
      "metadata": {
        "colab": {
          "base_uri": "https://localhost:8080/"
        },
        "id": "coLJuuAc8pjl",
        "outputId": "681d8e82-9eec-4e9a-ecc9-6823cb37e870"
      },
      "outputs": [
        {
          "output_type": "stream",
          "name": "stdout",
          "text": [
            "MAE = 0.4600000000000016\n",
            "MSE = 0.24600000000000147\n",
            "RMSE = 0.49598387070549127\n"
          ]
        }
      ],
      "source": [
        "y_actual = [20, 30, 40, 50, 60]\n",
        "y_pred = [20.5, 30.3, 40.2, 50.6, 60.7]\n",
        "n = len(y_actual)\n",
        "sum_absolute_error = 0\n",
        "sum_squared_error = 0\n",
        "for i in range(n):\n",
        "    diff = y_actual[i] - y_pred[i]\n",
        "    sum_absolute_error += abs(diff)\n",
        "    sum_squared_error += diff ** 2\n",
        "MAE = sum_absolute_error / n\n",
        "MSE = sum_squared_error / n\n",
        "RMSE = MSE ** 0.5\n",
        "print(\"MAE =\", MAE)\n",
        "print(\"MSE =\", MSE)\n",
        "print(\"RMSE =\", RMSE)\n"
      ]
    },
    {
      "cell_type": "markdown",
      "source": [
        "mae\n"
      ],
      "metadata": {
        "id": "1wZAMAtRJQFk"
      }
    },
    {
      "cell_type": "code",
      "source": [
        "y_actual = [20, 30, 40, 50, 60]\n",
        "y_pred = [20.5, 30.3, 40.2, 50.6, 60.7]\n",
        "n=len(y_actual)\n",
        "sum_absolute_error = 0\n",
        "for i in range(n):\n",
        "    diff = y_actual[i] - y_pred[i]\n",
        "    sum_absolute_error += abs(diff)\n",
        "print(\"MAE =\", MAE)\n"
      ],
      "metadata": {
        "colab": {
          "base_uri": "https://localhost:8080/"
        },
        "id": "YxkEX8z3Ie8K",
        "outputId": "e3dae444-54bf-4edd-ef6a-7e7e77098542"
      },
      "execution_count": null,
      "outputs": [
        {
          "output_type": "stream",
          "name": "stdout",
          "text": [
            "MAE = 0.4600000000000016\n"
          ]
        }
      ]
    },
    {
      "cell_type": "markdown",
      "source": [
        "mse\n"
      ],
      "metadata": {
        "id": "Qku_iCRgJjHM"
      }
    },
    {
      "cell_type": "code",
      "source": [
        "y_actual = [20, 30, 40, 50, 60]\n",
        "y_pred = [20.5, 30.3, 40.2, 50.6, 60.7]\n",
        "n=len(y_actual)\n",
        "sum_squared_error = 0\n",
        "for i in range(n):\n",
        "    diff = y_actual[i] - y_pred[i]\n",
        "    sum_squared_error += diff ** 2\n",
        "print(\"MSE =\", MSE)"
      ],
      "metadata": {
        "colab": {
          "base_uri": "https://localhost:8080/"
        },
        "id": "TsOiPcHhJStU",
        "outputId": "37ab79f1-b381-446a-90a1-3a57bf821ea6"
      },
      "execution_count": null,
      "outputs": [
        {
          "output_type": "stream",
          "name": "stdout",
          "text": [
            "MSE = 0.24600000000000147\n"
          ]
        }
      ]
    },
    {
      "cell_type": "code",
      "source": [
        "y_actual = [20, 30, 40, 50, 60]\n",
        "y_pred = [20.5, 30.3, 40.2, 50.6, 60.7]\n",
        "n=len(y_actual)\n",
        "sum_squared_error = 0\n",
        "for i in range(n):\n",
        "    diff = y_actual[i] - y_pred[i]\n",
        "    sum_squared_error += diff ** 2\n",
        "    MSE = sum_squared_error / n\n",
        "    RMSE = MSE ** 0.5\n",
        "print(\"RMSE =\", RMSE)\n"
      ],
      "metadata": {
        "colab": {
          "base_uri": "https://localhost:8080/"
        },
        "id": "3jfOSb9jJkqe",
        "outputId": "f0b2450c-0bcc-439c-d78e-c15c78dc6b26"
      },
      "execution_count": null,
      "outputs": [
        {
          "output_type": "stream",
          "name": "stdout",
          "text": [
            "RMSE = 0.49598387070549127\n"
          ]
        }
      ]
    }
  ]
}