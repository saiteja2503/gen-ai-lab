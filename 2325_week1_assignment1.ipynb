{
  "nbformat": 4,
  "nbformat_minor": 0,
  "metadata": {
    "colab": {
      "provenance": [],
      "include_colab_link": true
    },
    "kernelspec": {
      "name": "python3",
      "display_name": "Python 3"
    },
    "language_info": {
      "name": "python"
    }
  },
  "cells": [
    {
      "cell_type": "markdown",
      "metadata": {
        "id": "view-in-github",
        "colab_type": "text"
      },
      "source": [
        "<a href=\"https://colab.research.google.com/github/saiteja2503/gen-ai-lab/blob/main/2325_week1_assignment1.ipynb\" target=\"_parent\"><img src=\"https://colab.research.google.com/assets/colab-badge.svg\" alt=\"Open In Colab\"/></a>"
      ]
    },
    {
      "cell_type": "markdown",
      "source": [
        "**1st Question**"
      ],
      "metadata": {
        "id": "YzeG4mlIECAP"
      }
    },
    {
      "cell_type": "code",
      "source": [
        "import numpy as np\n",
        "from sklearn.metrics import mean_absolute_error, mean_squared_error\n",
        "\n",
        "# Data: Actual and predicted values\n",
        "y_actual = [20, 30, 40, 50, 60]\n",
        "y_pred = [20.5, 30.3, 40.2, 50.6, 60.7]\n",
        "\n",
        "# Calculate error metrics from scratch\n",
        "n = len(y_actual)\n",
        "\n",
        "# Mean Absolute Error (MAE)\n",
        "mae_manual = sum(abs(y_a - y_p) for y_a, y_p in zip(y_actual, y_pred)) / n\n",
        "\n",
        "# Mean Squared Error (MSE)\n",
        "mse_manual = sum((y_a - y_p) ** 2 for y_a, y_p in zip(y_actual, y_pred)) / n\n",
        "\n",
        "# Root Mean Squared Error (RMSE)\n",
        "rmse_manual = mse_manual ** 0.5\n",
        "\n",
        "# Print manual results\n",
        "print(\"Manual Calculation Results:\")\n",
        "print(f\"MAE: {mae_manual}\")\n",
        "print(f\"MSE: {mse_manual}\")\n",
        "print(f\"RMSE: {rmse_manual}\")\n",
        "\n",
        "# Calculate error metrics using libraries\n",
        "mae_lib = mean_absolute_error(y_actual, y_pred)\n",
        "mse_lib = mean_squared_error(y_actual, y_pred)\n",
        "rmse_lib = np.sqrt(mse_lib)\n",
        "\n",
        "# Print library results\n",
        "print(\"\\nLibrary Calculation Results:\")\n",
        "print(f\"MAE: {mae_lib}\")\n",
        "print(f\"MSE: {mse_lib}\")\n",
        "print(f\"RMSE: {rmse_lib}\")\n",
        "\n",
        "# Compare results\n",
        "print(\"\\nComparison:\")\n",
        "print(f\"MAE Difference: {abs(mae_manual - mae_lib)}\")\n",
        "print(f\"MSE Difference: {abs(mse_manual - mse_lib)}\")\n",
        "print(f\"RMSE Difference: {abs(rmse_manual - rmse_lib)}\")"
      ],
      "metadata": {
        "id": "9oehPqK18vLm",
        "colab": {
          "base_uri": "https://localhost:8080/"
        },
        "outputId": "16395554-4055-4594-cac3-244c11712072"
      },
      "execution_count": null,
      "outputs": [
        {
          "output_type": "stream",
          "name": "stdout",
          "text": [
            "Manual Calculation Results:\n",
            "MAE: 0.4600000000000016\n",
            "MSE: 0.24600000000000147\n",
            "RMSE: 0.49598387070549127\n",
            "\n",
            "Library Calculation Results:\n",
            "MAE: 0.4600000000000016\n",
            "MSE: 0.24600000000000147\n",
            "RMSE: 0.49598387070549127\n",
            "\n",
            "Comparison:\n",
            "MAE Difference: 0.0\n",
            "MSE Difference: 0.0\n",
            "RMSE Difference: 0.0\n"
          ]
        }
      ]
    },
    {
      "cell_type": "markdown",
      "source": [
        "**2rd Question**"
      ],
      "metadata": {
        "id": "3RERE6IdEseL"
      }
    },
    {
      "cell_type": "code",
      "source": [
        "from sklearn.metrics import accuracy_score, precision_score, recall_score, f1_score\n",
        "\n",
        "# Data: Actual and predicted values\n",
        "y_actual = [0, 0, 0, 0, 0, 0, 0, 1, 2, 2]\n",
        "y_pred = [1, 1, 2, 0, 1, 0, 2, 0, 2, 2]\n",
        "\n",
        "# Classes in the dataset\n",
        "classes = set(y_actual)\n",
        "\n",
        "# Manual Calculation of Metrics\n",
        "def calculate_metrics(y_actual, y_pred, classes):\n",
        "    # Confusion matrix components\n",
        "    confusion_matrix = {cls: {'TP': 0, 'FP': 0, 'FN': 0} for cls in classes}\n",
        "    total_samples = len(y_actual)\n",
        "\n",
        "    # Populate confusion matrix components\n",
        "    for actual, pred in zip(y_actual, y_pred):\n",
        "        if actual == pred:\n",
        "            confusion_matrix[actual]['TP'] += 1\n",
        "        else:\n",
        "            confusion_matrix[pred]['FP'] += 1\n",
        "            confusion_matrix[actual]['FN'] += 1\n",
        "\n",
        "    # Metrics\n",
        "    total_correct = sum(confusion_matrix[cls]['TP'] for cls in classes)\n",
        "    accuracy = total_correct / total_samples\n",
        "\n",
        "    precision = {cls: (confusion_matrix[cls]['TP'] /\n",
        "                       (confusion_matrix[cls]['TP'] + confusion_matrix[cls]['FP'])\n",
        "                       if (confusion_matrix[cls]['TP'] + confusion_matrix[cls]['FP']) > 0 else 0)\n",
        "                 for cls in classes}\n",
        "\n",
        "    recall = {cls: (confusion_matrix[cls]['TP'] /\n",
        "                    (confusion_matrix[cls]['TP'] + confusion_matrix[cls]['FN'])\n",
        "                    if (confusion_matrix[cls]['TP'] + confusion_matrix[cls]['FN']) > 0 else 0)\n",
        "              for cls in classes}\n",
        "\n",
        "    f1 = {cls: (2 * precision[cls] * recall[cls] /\n",
        "                (precision[cls] + recall[cls]) if (precision[cls] + recall[cls]) > 0 else 0)\n",
        "          for cls in classes}\n",
        "\n",
        "    return accuracy, precision, recall, f1\n",
        "\n",
        "# Calculate metrics manually\n",
        "accuracy_manual, precision_manual, recall_manual, f1_manual = calculate_metrics(y_actual, y_pred, classes)\n",
        "\n",
        "# Print manual results\n",
        "print(\"Manual Calculation Results:\")\n",
        "print(f\"Accuracy: {accuracy_manual}\")\n",
        "print(f\"Precision: {precision_manual}\")\n",
        "print(f\"Recall: {recall_manual}\")\n",
        "print(f\"F1-Score: {f1_manual}\")\n",
        "\n",
        "# Calculate metrics using libraries\n",
        "accuracy_lib = accuracy_score(y_actual, y_pred)\n",
        "precision_lib = precision_score(y_actual, y_pred, average=None, labels=list(classes))\n",
        "recall_lib = recall_score(y_actual, y_pred, average=None, labels=list(classes))\n",
        "f1_lib = f1_score(y_actual, y_pred, average=None, labels=list(classes))\n",
        "\n",
        "# Print library results\n",
        "print(\"\\nLibrary Calculation Results:\")\n",
        "print(f\"Accuracy: {accuracy_lib}\")\n",
        "print(f\"Precision: {dict(zip(classes, precision_lib))}\")\n",
        "print(f\"Recall: {dict(zip(classes, recall_lib))}\")\n",
        "print(f\"F1-Score: {dict(zip(classes, f1_lib))}\")\n",
        "\n",
        "# Compare results\n",
        "print(\"\\nComparison:\")\n",
        "print(f\"Accuracy Difference: {abs(accuracy_manual - accuracy_lib)}\")\n",
        "print(f\"Precision Differences: {dict((cls, abs(precision_manual[cls] - p)) for cls, p in zip(classes, precision_lib))}\")\n",
        "print(f\"Recall Differences: {dict((cls, abs(recall_manual[cls] - r)) for cls, r in zip(classes, recall_lib))}\")\n",
        "print(f\"F1-Score Differences: {dict((cls, abs(f1_manual[cls] - f)) for cls, f in zip(classes, f1_lib))}\")"
      ],
      "metadata": {
        "id": "eibWidiOEwxp",
        "outputId": "16487acb-f280-44f3-ba01-c7ee31a9ed2f",
        "colab": {
          "base_uri": "https://localhost:8080/"
        }
      },
      "execution_count": null,
      "outputs": [
        {
          "output_type": "stream",
          "name": "stdout",
          "text": [
            "Manual Calculation Results:\n",
            "Accuracy: 0.4\n",
            "Precision: {0: 0.6666666666666666, 1: 0.0, 2: 0.5}\n",
            "Recall: {0: 0.2857142857142857, 1: 0.0, 2: 1.0}\n",
            "F1-Score: {0: 0.4, 1: 0, 2: 0.6666666666666666}\n",
            "\n",
            "Library Calculation Results:\n",
            "Accuracy: 0.4\n",
            "Precision: {0: 0.6666666666666666, 1: 0.0, 2: 0.5}\n",
            "Recall: {0: 0.2857142857142857, 1: 0.0, 2: 1.0}\n",
            "F1-Score: {0: 0.4, 1: 0.0, 2: 0.6666666666666666}\n",
            "\n",
            "Comparison:\n",
            "Accuracy Difference: 0.0\n",
            "Precision Differences: {0: 0.0, 1: 0.0, 2: 0.0}\n",
            "Recall Differences: {0: 0.0, 1: 0.0, 2: 0.0}\n",
            "F1-Score Differences: {0: 0.0, 1: 0.0, 2: 0.0}\n"
          ]
        }
      ]
    }
  ]
}