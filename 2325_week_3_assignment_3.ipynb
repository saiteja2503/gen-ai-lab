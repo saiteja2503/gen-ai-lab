{
  "nbformat": 4,
  "nbformat_minor": 0,
  "metadata": {
    "colab": {
      "provenance": [],
      "authorship_tag": "ABX9TyNFFRO+90hapETSZGRVesuz",
      "include_colab_link": true
    },
    "kernelspec": {
      "name": "python3",
      "display_name": "Python 3"
    },
    "language_info": {
      "name": "python"
    }
  },
  "cells": [
    {
      "cell_type": "markdown",
      "metadata": {
        "id": "view-in-github",
        "colab_type": "text"
      },
      "source": [
        "<a href=\"https://colab.research.google.com/github/saiteja2503/gen-ai-lab/blob/main/2325_week_3_assignment_3.ipynb\" target=\"_parent\"><img src=\"https://colab.research.google.com/assets/colab-badge.svg\" alt=\"Open In Colab\"/></a>"
      ]
    },
    {
      "cell_type": "code",
      "execution_count": 1,
      "metadata": {
        "colab": {
          "base_uri": "https://localhost:8080/"
        },
        "id": "Mz57ffhYHnUf",
        "outputId": "e52fb540-e4d9-4d3d-dbd2-2f40b4360e58"
      },
      "outputs": [
        {
          "output_type": "stream",
          "name": "stdout",
          "text": [
            "Iteration 1: x = 0.74, f(x) = 29.240000000000002\n",
            "Iteration 2: x = 0.6145552, f(x) = 25.9784352\n",
            "Iteration 3: x = 0.5312610807000426, f(x) = 23.81278809820111\n",
            "Iteration 4: x = 0.4693969671925482, f(x) = 22.204321147006254\n",
            "Iteration 5: x = 0.42054837262425754, f(x) = 20.934257688230694\n",
            "Iteration 6: x = 0.38043975469571134, f(x) = 19.891433622088496\n",
            "Iteration 7: x = 0.34660082495852806, f(x) = 19.01162144892173\n",
            "Iteration 8: x = 0.3174771962595419, f(x) = 18.25440710274809\n",
            "Iteration 9: x = 0.29202874676564666, f(x) = 17.592747415906814\n",
            "Iteration 10: x = 0.2695261335763863, f(x) = 17.00767947298604\n",
            "Value of x at minimum: 0.2695261335763863\n",
            "Minimum value of f(x): 17.00767947298604\n"
          ]
        }
      ],
      "source": [
        "# Define the function f(x) (not used directly in optimization)\n",
        "def f(x):\n",
        "    return 5 * x*4 + 3 * x*2 + 10\n",
        "\n",
        "# Define the derivative f'(x)\n",
        "def df(x):\n",
        "    return 20 * x**3 + 6 * x\n",
        "\n",
        "# Gradient Descent implementation\n",
        "def gradient_descent(start_x, learning_rate, iterations):\n",
        "    x = start_x  # Initialize x\n",
        "    for i in range(iterations):\n",
        "        grad = df(x)  # Compute the gradient\n",
        "        x -= learning_rate * grad  # Update x\n",
        "        # Print progress for demonstration\n",
        "        print(f\"Iteration {i+1}: x = {x}, f(x) = {f(x)}\")\n",
        "    return x\n",
        "\n",
        "# Parameters\n",
        "start_x = 1.0       # Initial guess\n",
        "learning_rate = 0.01\n",
        "iterations = 10\n",
        "\n",
        "# Run Gradient Descent\n",
        "minimum_x = gradient_descent(start_x, learning_rate, iterations)\n",
        "\n",
        "# Print final result\n",
        "print(\"Value of x at minimum:\", minimum_x)\n",
        "print(\"Minimum value of f(x):\", f(minimum_x))"
      ]
    }
  ]
}